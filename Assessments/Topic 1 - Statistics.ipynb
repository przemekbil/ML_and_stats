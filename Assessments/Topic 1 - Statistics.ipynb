{
 "cells": [
  {
   "cell_type": "markdown",
   "id": "516ffc81-ba09-4a5f-9359-803ec3597b60",
   "metadata": {},
   "source": [
    "# Notebook for Topic 1 - Statictics\n",
    "\n",
    "<hr style=\"border-top: 1px solid #001a79;\" />"
   ]
  },
  {
   "cell_type": "markdown",
   "id": "66c0ce3f-2cf7-487d-b7ee-9e8b36a6ee22",
   "metadata": {},
   "source": [
    "## Exercise 1"
   ]
  },
  {
   "cell_type": "markdown",
   "id": "bacdc0bb-5ad9-4bf6-a91b-cd0fa5ce0801",
   "metadata": {},
   "source": [
    "### Calculate the minimum number of cups of tea required to ensure the probability of randomly selecting the correct cups is less than or equal to 1%\n",
    "Assuming the half of the cups are tea first and other half is milk first"
   ]
  },
  {
   "cell_type": "code",
   "execution_count": 1,
   "id": "75910472-176d-4498-910a-aa79470427f8",
   "metadata": {},
   "outputs": [],
   "source": [
    "import itertools\n",
    "import random\n",
    "import seaborn as sns\n",
    "import numpy as np\n",
    "import math"
   ]
  },
  {
   "cell_type": "markdown",
   "id": "5a556850-0066-4bfe-ba06-a97bd7a5517d",
   "metadata": {},
   "source": [
    "***\n",
    "#### Calculate probability of selecting all 4 cups correctly by chance calculated from fractional probabilities in each step"
   ]
  },
  {
   "cell_type": "markdown",
   "id": "a1cf9c3c-d758-41a8-ad77-d4b955bea6af",
   "metadata": {},
   "source": [
    "Probability of selecting all 4 cups out of 8 correctly:\n",
    "\n",
    "| Step | Number cups in the lot matching criteria | Total number of cups available | Probability |\n",
    "| --- | --- | --- |---|\n",
    "|Select 1st milk first cup | 4 | 8 | 4/8|\n",
    "|Select 2nd milk first cup  | 3 | 7 | 3/7|\n",
    "|Select 3rd milk first cup  | 2 | 6 | 2/6|\n",
    "|Select 4th milk first cup  | 1 | 5 | 1/4|\n",
    "\n",
    "These are independent events, so the final proability of selecting all 4 cups correctly can be calculated by multiplying probabilities frm each steps:\n",
    "\n",
    "$$P_{all} = \\frac{4}{8}*\\frac{3}{7}*\\frac{2}{6}*\\frac{1}{5}$$\n",
    "\n",
    "$$P_{all} = \\frac{4*3*2*1}{8*7*6*5}$$\n",
    "\n",
    "$$P_{all} = \\frac{24}{1680} = \\frac{1}{70} = 0.014 = 1.4\\%$$"
   ]
  },
  {
   "cell_type": "markdown",
   "id": "dcbeec4e-2be7-4e97-b463-3e0fe2535c5f",
   "metadata": {},
   "source": [
    "The probability of selecting all 4 cups correctly out of 8 by a chance only is 1 in 70, close to 1.4%"
   ]
  },
  {
   "cell_type": "markdown",
   "id": "aed430f1-1f50-486d-a263-17239b3588e7",
   "metadata": {},
   "source": [
    "#### Calculate probability of selecting all 4 cups correctly by chance using combinatorics"
   ]
  },
  {
   "cell_type": "markdown",
   "id": "3ad1cd2b-57d1-49c4-9516-bb96ca4891fb",
   "metadata": {},
   "source": [
    "__[From Wikipedia](https://en.wikipedia.org/wiki/Combination)__\n",
    "\n",
    "How many ways can we select 4 cups out of 8?\n",
    "\n",
    "To answer this questions, first we need to calculate a number of unique outcomes of this experiment, such that the order of selection doesn't matter (combinations). The total number of combinations is given by the equation:\n",
    "\n",
    "$$C^n_k = \\frac{n!}{k!*(n-k)!}$$\n",
    "\n",
    "where<br>\n",
    "$n$ - size of the set,<br>\n",
    "$k$ - size of the subset\n",
    "\n",
    "In our example of selecting 4 cups out of 8:\n",
    "\n",
    "$$C^8_4 = \\frac{8!}{4!*4!}=\\frac{1*2*3*4*5*6*7*8}{1*2*3*4*1*2*3*4}=\\frac{5*6*7*8}{1*2*3*4}=70$$\n",
    "\n",
    "There is 70 different ways of selecting 4 cups out of lot of 8. Since there is only one selection that is correct, the probability of selecting the 4 correct cups out of 8 can be calculated as a reciprocal of the total number of combinations: $P_{all}=\\frac{1}{70}$"
   ]
  },
  {
   "cell_type": "markdown",
   "id": "061556e1-3561-47b8-8d92-6de0b3fe50f3",
   "metadata": {},
   "source": [
    "The probability of selecting all 4 cups correctly out of 8 by a chance only is 1 in 70, this result matches the result calculated using fractional probabilities above."
   ]
  },
  {
   "cell_type": "markdown",
   "id": "0df2a6dd-8676-464f-8c9a-f9ebf9186769",
   "metadata": {},
   "source": [
    "***\n",
    "#### Define functions used for calculating number of Combinations and Factorial"
   ]
  },
  {
   "cell_type": "code",
   "execution_count": 2,
   "id": "f2eb4d66-ec25-4006-af6c-382185a522ad",
   "metadata": {},
   "outputs": [],
   "source": [
    "# defining a custom function to calculate factorials\n",
    "def factorial(number, result=1):\n",
    "    if number==0:\n",
    "        return result\n",
    "    else:\n",
    "        return factorial(number-1, result*number)"
   ]
  },
  {
   "cell_type": "code",
   "execution_count": 3,
   "id": "959bb5ea-90ea-4ae0-9786-fb3de66c08b6",
   "metadata": {},
   "outputs": [],
   "source": [
    "# Defining a custom function to calculate the number of Combinations\n",
    "def combinations(n, k):\n",
    "    return factorial(n)/(factorial(k)*factorial(n-k))"
   ]
  },
  {
   "cell_type": "code",
   "execution_count": 4,
   "id": "163bfd75-ebf5-4f88-a55f-4ad265bbfdbf",
   "metadata": {},
   "outputs": [
    {
     "data": {
      "text/plain": [
       "70.0"
      ]
     },
     "execution_count": 4,
     "metadata": {},
     "output_type": "execute_result"
    }
   ],
   "source": [
    "combinations(8,4)"
   ]
  },
  {
   "cell_type": "markdown",
   "id": "e9f5c541-44ec-4421-b7c4-2a81d3db9bc3",
   "metadata": {},
   "source": [
    "#### Solve the qustion using combinatorics"
   ]
  },
  {
   "cell_type": "markdown",
   "id": "4e31fe7c-ef8e-46e3-b9b6-d32982989dad",
   "metadata": {},
   "source": [
    "To calculate the probability of any event, we need to know the total number of possible configurations."
   ]
  },
  {
   "cell_type": "code",
   "execution_count": 5,
   "id": "847eefe4-25a3-4cd5-b212-16c861a4a10b",
   "metadata": {
    "tags": []
   },
   "outputs": [
    {
     "name": "stdout",
     "output_type": "stream",
     "text": [
      "Number of possible ways to select 1 cups from total of 2 is 2\n",
      "Only 1 out of 2 possibilities is the correct one, so the probability of corectly selecting it by chance is 50.00%\n",
      "\n",
      "Number of possible ways to select 2 cups from total of 4 is 6\n",
      "Only 1 out of 6 possibilities is the correct one, so the probability of corectly selecting it by chance is 16.67%\n",
      "\n",
      "Number of possible ways to select 3 cups from total of 6 is 20\n",
      "Only 1 out of 20 possibilities is the correct one, so the probability of corectly selecting it by chance is 5.00%\n",
      "\n",
      "Number of possible ways to select 4 cups from total of 8 is 70\n",
      "Only 1 out of 70 possibilities is the correct one, so the probability of corectly selecting it by chance is 1.43%\n",
      "\n",
      "Number of possible ways to select 5 cups from total of 10 is 252\n",
      "Only 1 out of 252 possibilities is the correct one, so the probability of corectly selecting it by chance is 0.40%\n",
      "\n",
      "\n",
      "The minimum number of cups of tea required to ensure the probability of randomly selecting the correct cups is less than or equal to 1% is 10\n"
     ]
    }
   ],
   "source": [
    "# Initialize variables\n",
    "prob=1\n",
    "# number of 'milk first cups'\n",
    "k=1\n",
    "# Set the minimum probability treshold\n",
    "min_prob = 0.01\n",
    "\n",
    "# Execute this loop until the calculated probability drops below the min_prob treshold\n",
    "while prob>min_prob:\n",
    "    \n",
    "    # total number of cups in the Experiment\n",
    "    n=2*k\n",
    "\n",
    "    # calculate number of possible combinations\n",
    "    Cnk = combinations(n, k)\n",
    "    \n",
    "    # calculate the probability\n",
    "    prob = 1./Cnk\n",
    "    \n",
    "    # print the calculated values\n",
    "    print(\"Number of possible ways to select {} cups from total of {} is {:.0f}\".format(k, n, Cnk ))\n",
    "    print(\"Only 1 out of {:.0f} possibilities is the correct one, so the probability of corectly selecting it by chance is {:.2f}%\".format(Cnk, prob*100 ) )\n",
    "    print()\n",
    "    \n",
    "    # increase the number of 'milk first cups'\n",
    "    k=k+1\n",
    "\n",
    "print(\"\")    \n",
    "print(\"The minimum number of cups of tea required to ensure the probability of randomly selecting the correct cups is less than or equal to 1% is {}\".format(n))"
   ]
  },
  {
   "cell_type": "markdown",
   "id": "dbec2fcc-627c-44bc-bdd0-3bc53dd2e2a4",
   "metadata": {},
   "source": [
    "<div class=\"alert alert-block alert-success\">\n",
    "<b>Answer:</b> 10 is the minimum number of cups of tea required to ensure the probability of randomly selecting the correct cups is less than or equal to 1%\n",
    "\n",
    "\n",
    "</div>\n",
    "<hr style=\"border-top: 1px solid #001a79;\" />"
   ]
  },
  {
   "cell_type": "markdown",
   "id": "3f26a896-16b5-47a7-99bf-2e1e5eb9ef20",
   "metadata": {},
   "source": [
    "<br>\n",
    "\n",
    "### *Bonus:* How many would be required if you were to let the taster get one cup wrong while maintaining the 1% threshold?"
   ]
  },
  {
   "cell_type": "markdown",
   "id": "584ebfe3-39c8-41d0-b5ea-5cb0227d573b",
   "metadata": {},
   "source": [
    "***\n",
    "#### Calculate probability of selecting at least 3 cups correctly by chance calculated from fractional probabilities in each step"
   ]
  },
  {
   "cell_type": "markdown",
   "id": "3bbbaee9-1812-4114-ae95-5baff47faf39",
   "metadata": {},
   "source": [
    "##### Probability of selecting first cup incorrectly and then all 3 following cups correctly:\n",
    "\n",
    "| Step | Number cups in the lot matching criteria | Total number of cups available | Probability |\n",
    "| --- | --- | --- |---|\n",
    "|Select 1st tea first cup | 4 | 8 | 4/8|\n",
    "|Select 1st milk first cup  | 4 | 7 | 4/7|\n",
    "|Select 2nd milk first cup  | 3 | 6 | 3/6|\n",
    "|Select 3rd milk first cup  | 2 | 5 | 2/4|\n",
    "\n",
    "These are independent events, so the final proability of selecting all 4 cups correctly can be calculated by multiplying probabilities form each steps:\n",
    "\n",
    "$$P_{3} = \\frac{4}{8}*\\frac{4}{7}*\\frac{3}{6}*\\frac{2}{5} = \\frac{4*4*3*2}{8*7*6*5}$$\n",
    "\n",
    "\n",
    "$$P_{3} = \\frac{96}{1680} = \\frac{4}{70}$$\n",
    "\n",
    "\n",
    "\n",
    "##### Probability of selecting one incorrect cup at any step:\n",
    "\n",
    "Probability of selecting one incorrect cup at any step would be a sum of probabilities of selecting incorrect cup only at first step (calculated above), only at second step, only at third step and only at fourts step. Because these events are qually likely to occur, the final probability of selecting one cup incorrectly would be:\n",
    "\n",
    "$$P_{3} = \\frac{96}{1680} * 4 = \\frac{16}{70}$$\n",
    "\n",
    "\n",
    "\n",
    "##### Probability of selecting at least 3 cups correctly:\n",
    "\n",
    "Scenarios in which we would allow the subject selecting at least 3 cups correctly (or at most 1 cup incorrectly) include both possibilities of selecting exactly 3 cups correctly and all 4 cups correctly. Therefore, the ptobability of slecting at least 3 cups correctly would be a sum of both probabilities:\n",
    "\n",
    "$$P_{at\\_least\\_3} = P_{3} + P_{all} = \\frac{16}{70} + \\frac{1}{70} = \\frac{17}{70} = 24.29\\%$$"
   ]
  },
  {
   "cell_type": "markdown",
   "id": "74f70c40-e736-4a0a-9410-44be6c9d53e2",
   "metadata": {},
   "source": [
    "Probability of selecting at least 3 cups correctly (allowing the tester to get one cup wrong) is 17/70, little over 24% "
   ]
  },
  {
   "cell_type": "markdown",
   "id": "b1c98456-945d-4ac7-bd5a-4019e75184cc",
   "metadata": {},
   "source": [
    "***\n",
    "#### Calculate probability of selecting at least 3 cups correctly by chance using combinatorics"
   ]
  },
  {
   "cell_type": "markdown",
   "id": "145141e7-bf7b-4ff6-9402-a209433e1269",
   "metadata": {},
   "source": [
    "Number of possible outcomes is still the same ($C^8_4 = 70$) but the number of events matching description (at least 3 cups 'tea first' selected correctly) will be greater:\n",
    "* There are 4 chances (4 cup selections) that the cup cuan be sellected incorrectly and there are 4 'milk first' cups to select from. Therefore, there are 4*4=16 total possible outcomes where there are exactly 3 cups correctly selected.\n",
    "* There is still only one possible configuration where all the cups are sleected correctly\n",
    "* Total number of outcomes matching desription is 16+1=17\n",
    "* Probability of selecting at least 3 cups correctly out of total 8 cups is $$P_{at\\_least\\_3} = \\frac{16 + 1}{70}  = \\frac{17}{70} = 24.29\\%$$"
   ]
  },
  {
   "cell_type": "markdown",
   "id": "58a91536-2b7c-4f22-8b6d-f8a8ac273b80",
   "metadata": {},
   "source": [
    "***\n",
    "#### Confirm above results by explicitly listing all possible combinations"
   ]
  },
  {
   "cell_type": "code",
   "execution_count": 6,
   "id": "b6c82f4d-8c86-43e3-aef3-35473d69a8bf",
   "metadata": {},
   "outputs": [
    {
     "data": {
      "text/plain": [
       "[0, 1, 2, 3, 4, 5, 6, 7]"
      ]
     },
     "execution_count": 6,
     "metadata": {},
     "output_type": "execute_result"
    }
   ],
   "source": [
    "# define and list placeholders for 8 cups\n",
    "cups = list(range(8))\n",
    "cups"
   ]
  },
  {
   "cell_type": "code",
   "execution_count": 7,
   "id": "7f67c2bb-16fb-4b86-b85c-4e2e35a133bc",
   "metadata": {
    "scrolled": true,
    "tags": []
   },
   "outputs": [
    {
     "data": {
      "text/plain": [
       "[(0, 1, 2, 3),\n",
       " (0, 1, 2, 4),\n",
       " (0, 1, 2, 5),\n",
       " (0, 1, 2, 6),\n",
       " (0, 1, 2, 7),\n",
       " (0, 1, 3, 4),\n",
       " (0, 1, 3, 5),\n",
       " (0, 1, 3, 6),\n",
       " (0, 1, 3, 7),\n",
       " (0, 1, 4, 5),\n",
       " (0, 1, 4, 6),\n",
       " (0, 1, 4, 7),\n",
       " (0, 1, 5, 6),\n",
       " (0, 1, 5, 7),\n",
       " (0, 1, 6, 7),\n",
       " (0, 2, 3, 4),\n",
       " (0, 2, 3, 5),\n",
       " (0, 2, 3, 6),\n",
       " (0, 2, 3, 7),\n",
       " (0, 2, 4, 5),\n",
       " (0, 2, 4, 6),\n",
       " (0, 2, 4, 7),\n",
       " (0, 2, 5, 6),\n",
       " (0, 2, 5, 7),\n",
       " (0, 2, 6, 7),\n",
       " (0, 3, 4, 5),\n",
       " (0, 3, 4, 6),\n",
       " (0, 3, 4, 7),\n",
       " (0, 3, 5, 6),\n",
       " (0, 3, 5, 7),\n",
       " (0, 3, 6, 7),\n",
       " (0, 4, 5, 6),\n",
       " (0, 4, 5, 7),\n",
       " (0, 4, 6, 7),\n",
       " (0, 5, 6, 7),\n",
       " (1, 2, 3, 4),\n",
       " (1, 2, 3, 5),\n",
       " (1, 2, 3, 6),\n",
       " (1, 2, 3, 7),\n",
       " (1, 2, 4, 5),\n",
       " (1, 2, 4, 6),\n",
       " (1, 2, 4, 7),\n",
       " (1, 2, 5, 6),\n",
       " (1, 2, 5, 7),\n",
       " (1, 2, 6, 7),\n",
       " (1, 3, 4, 5),\n",
       " (1, 3, 4, 6),\n",
       " (1, 3, 4, 7),\n",
       " (1, 3, 5, 6),\n",
       " (1, 3, 5, 7),\n",
       " (1, 3, 6, 7),\n",
       " (1, 4, 5, 6),\n",
       " (1, 4, 5, 7),\n",
       " (1, 4, 6, 7),\n",
       " (1, 5, 6, 7),\n",
       " (2, 3, 4, 5),\n",
       " (2, 3, 4, 6),\n",
       " (2, 3, 4, 7),\n",
       " (2, 3, 5, 6),\n",
       " (2, 3, 5, 7),\n",
       " (2, 3, 6, 7),\n",
       " (2, 4, 5, 6),\n",
       " (2, 4, 5, 7),\n",
       " (2, 4, 6, 7),\n",
       " (2, 5, 6, 7),\n",
       " (3, 4, 5, 6),\n",
       " (3, 4, 5, 7),\n",
       " (3, 4, 6, 7),\n",
       " (3, 5, 6, 7),\n",
       " (4, 5, 6, 7)]"
      ]
     },
     "execution_count": 7,
     "metadata": {},
     "output_type": "execute_result"
    }
   ],
   "source": [
    "# define and list all posible cobinations of choosing 4 cups out of 8\n",
    "poss = list(itertools.combinations(cups, 4))\n",
    "poss"
   ]
  },
  {
   "cell_type": "code",
   "execution_count": 8,
   "id": "540d3e30-e63a-4f0c-945a-470a26909b3a",
   "metadata": {},
   "outputs": [
    {
     "name": "stdout",
     "output_type": "stream",
     "text": [
      "These cups had milk added before the tea: {0, 3, 5, 6}\n"
     ]
    }
   ],
   "source": [
    "# Define randomly which cups will have milk added firts\n",
    "milkfirst = set(random.choice(poss))\n",
    "print(\"These cups had milk added before the tea: {}\".format(milkfirst))"
   ]
  },
  {
   "cell_type": "markdown",
   "id": "8d9d4599-e317-4e9d-b4b8-bb5805ffdfa5",
   "metadata": {},
   "source": [
    "<br>\n",
    "\n",
    "##### List explicitly all the possible cups selections where there are at least 3 cups selected correctly:"
   ]
  },
  {
   "cell_type": "code",
   "execution_count": 9,
   "id": "c991ffd7-5a1d-41f2-94de-a6925981cb1a",
   "metadata": {},
   "outputs": [
    {
     "name": "stdout",
     "output_type": "stream",
     "text": [
      "{0, 3, 5}\n",
      "{0, 3, 6}\n",
      "{0, 5, 6}\n",
      "{0, 3, 5}\n",
      "{0, 3, 6}\n",
      "{0, 5, 6}\n",
      "{0, 3, 5}\n",
      "{0, 3, 6}\n",
      "{0, 3, 5, 6}\n",
      "{0, 3, 5}\n",
      "{0, 3, 6}\n",
      "{0, 5, 6}\n",
      "{0, 5, 6}\n",
      "{3, 5, 6}\n",
      "{3, 5, 6}\n",
      "{3, 5, 6}\n",
      "{3, 5, 6}\n",
      "\n",
      "There are 17 possible cup selections where the subject selected at least 3 out of 4 cups correctly\n"
     ]
    }
   ],
   "source": [
    "at_least_3 = []\n",
    "for c in itertools.combinations(cups, 4):\n",
    "    correct = milkfirst & set(c)\n",
    "    if (len(correct)>=3):\n",
    "        at_least_3.append(correct)\n",
    "        print(correct)\n",
    "\n",
    "print()\n",
    "print(\"There are {} possible cup selections where the subject selected at least 3 out of 4 cups correctly\".format(len(at_least_3)))"
   ]
  },
  {
   "cell_type": "markdown",
   "id": "ed3c4ca7-38f2-4d7d-a0c3-6945e1c79986",
   "metadata": {},
   "source": [
    "The above results confirms the calculations made using both the factional probabilities and the combinatorics"
   ]
  },
  {
   "cell_type": "markdown",
   "id": "d801deee-a818-43f2-bbbe-cef399fd50c2",
   "metadata": {},
   "source": [
    "***\n",
    "#### Solve the bonus question using combinatorics"
   ]
  },
  {
   "cell_type": "code",
   "execution_count": 10,
   "id": "502a02b6-8d34-452d-80c1-c7159f0045fc",
   "metadata": {},
   "outputs": [
    {
     "name": "stdout",
     "output_type": "stream",
     "text": [
      "The total number of possible ways to select 1 cups from total of 2 is 2\n",
      "There are 2 outcomes matching description (out of 2 total possibilities), so the probability of corectly selecting at least 0 cups by chance is 100.00%\n",
      "\n",
      "The total number of possible ways to select 2 cups from total of 4 is 6\n",
      "There are 5 outcomes matching description (out of 6 total possibilities), so the probability of corectly selecting at least 1 cups by chance is 83.33%\n",
      "\n",
      "The total number of possible ways to select 3 cups from total of 6 is 20\n",
      "There are 10 outcomes matching description (out of 20 total possibilities), so the probability of corectly selecting at least 2 cups by chance is 50.00%\n",
      "\n",
      "The total number of possible ways to select 4 cups from total of 8 is 70\n",
      "There are 17 outcomes matching description (out of 70 total possibilities), so the probability of corectly selecting at least 3 cups by chance is 24.29%\n",
      "\n",
      "The total number of possible ways to select 5 cups from total of 10 is 252\n",
      "There are 26 outcomes matching description (out of 252 total possibilities), so the probability of corectly selecting at least 4 cups by chance is 10.32%\n",
      "\n",
      "The total number of possible ways to select 6 cups from total of 12 is 924\n",
      "There are 37 outcomes matching description (out of 924 total possibilities), so the probability of corectly selecting at least 5 cups by chance is 4.00%\n",
      "\n",
      "The total number of possible ways to select 7 cups from total of 14 is 3432\n",
      "There are 50 outcomes matching description (out of 3432 total possibilities), so the probability of corectly selecting at least 6 cups by chance is 1.46%\n",
      "\n",
      "The total number of possible ways to select 8 cups from total of 16 is 12870\n",
      "There are 65 outcomes matching description (out of 12870 total possibilities), so the probability of corectly selecting at least 7 cups by chance is 0.51%\n",
      "\n",
      "\n",
      "16 is the minimum number of cups of tea required to maintain the 1% probability treshold while allowing the tester one mistake\n"
     ]
    }
   ],
   "source": [
    "# Initialize variables\n",
    "prob=1\n",
    "# number of 'milk first cups'\n",
    "k=1\n",
    "# Set the minimum probability treshold\n",
    "min_prob = 0.01\n",
    "\n",
    "# Execute this loop until the calculated probability drops below the min_prob treshold\n",
    "while prob>min_prob:\n",
    "    \n",
    "    # total number of cups in the Experiment\n",
    "    n=2*k\n",
    "\n",
    "    # calculate number of possible combinations\n",
    "    Cnk = combinations(n, k)\n",
    "    \n",
    "    # calculate the probability\n",
    "    prob = (1 + k*k)/Cnk\n",
    "    \n",
    "    # print the calculated values\n",
    "    print(\"The total number of possible ways to select {} cups from total of {} is {:.0f}\".format(k, n, Cnk ))\n",
    "    print(\"There are {} outcomes matching description (out of {:.0f} total possibilities), so the probability of corectly selecting at least {:.0f} cups by chance is {:.2f}%\".format((1+k*k), Cnk, (k-1), prob*100 ) )\n",
    "    print()\n",
    "    \n",
    "    # increase the number of 'milk first cups'\n",
    "    k=k+1\n",
    "    \n",
    "print(\"\")    \n",
    "print(\"{} is the minimum number of cups of tea required to maintain the 1% probability treshold while allowing the tester one mistake\".format(n))"
   ]
  },
  {
   "cell_type": "markdown",
   "id": "d530f997-0cab-4e95-b5c0-ad6614b180fd",
   "metadata": {},
   "source": [
    "<div class=\"alert alert-block alert-success\">\n",
    "<b>Answer:</b> 16 is the minimum number of cups of tea required to maintain the 1% probability treshold while allowing the tester one mistake\n",
    "\n",
    "\n",
    "</div>\n",
    "<hr style=\"border-top: 1px solid #001a79;\" />"
   ]
  },
  {
   "cell_type": "markdown",
   "id": "9d687d7c-9004-4e73-830c-031ac050d4ce",
   "metadata": {},
   "source": [
    "<hr style=\"border-top: 1px solid #001a79;\" />\n",
    "\n",
    "# Exercise 2"
   ]
  },
  {
   "cell_type": "markdown",
   "id": "761f4c33-1a88-431d-be56-21b2a4e8d1b0",
   "metadata": {},
   "source": [
    "### Use scipy's version of Fisher's exact test to simulate the Lady Tasting Tea problem."
   ]
  },
  {
   "cell_type": "code",
   "execution_count": 11,
   "id": "85f0097e-8006-494d-bb28-6f9a672134b1",
   "metadata": {},
   "outputs": [],
   "source": [
    "from scipy.stats import fisher_exact"
   ]
  },
  {
   "cell_type": "markdown",
   "id": "96751944-e2a8-4078-b98a-bf3ce39b37e3",
   "metadata": {},
   "source": [
    "First, let's define the contingency table for the Lady Tasting Tea problem. The rows will represent whether or not the lady correctly identified the milk being poured first and the rows will represent the actual :\n",
    "\n",
    "\n",
    "|               | Milk poured first | Tea poured first |\n",
    "|---------------|-------------------|------------------------|\n",
    "| Lady guessed correctly | 10 | 2 |\n",
    "| Lady guessed incorrectly | 4 | 8 |\n",
    "\n",
    "In this example, the contingency table has 2 rows and 2 columns. The first row represents the 10 cups of tea that the lady correctly identified as having the milk poured first, and the second row represents the 4 cups of tea that the lady incorrectly identified as having the milk poured first. The first column represents the cups of tea that the lady correctly identified as having the milk poured first, and the second column represents the cups of tea that the lady incorrectly identified as having the milk poured first."
   ]
  },
  {
   "cell_type": "code",
   "execution_count": 25,
   "id": "e2c4c2e9-2423-43dc-b6af-a7518640dec3",
   "metadata": {},
   "outputs": [
    {
     "name": "stdout",
     "output_type": "stream",
     "text": [
      "0.0180\n"
     ]
    }
   ],
   "source": [
    "contingency_table = np.array([[10, 2], [4, 8]])\n",
    "oddsr, p = fisher_exact(contingency_table, alternative='greater')\n",
    "\n",
    "# Print calculated p-value\n",
    "print(\"{0:.4f}\".format(p))"
   ]
  },
  {
   "cell_type": "markdown",
   "id": "663af847-6052-4bc0-8e3a-ac28a0f167c6",
   "metadata": {},
   "source": [
    "<hr style=\"border-top: 1px solid #001a79;\" />\n",
    "\n",
    "# Exercise 3"
   ]
  },
  {
   "cell_type": "markdown",
   "id": "0586d652-a4e4-42da-98bc-079606861140",
   "metadata": {},
   "source": [
    "### Take the code from the Examples section of the scipy stats documentation for independent samples t-tests, add it to your own notebook and add explain how it works using MarkDown cells and code comments. Improve it in any way you think it could be improved."
   ]
  },
  {
   "cell_type": "code",
   "execution_count": 37,
   "id": "26a43ec7-2c32-4703-883e-0acffaaeee68",
   "metadata": {},
   "outputs": [
    {
     "name": "stdout",
     "output_type": "stream",
     "text": [
      "t-statistic: 10.48\n",
      "p-value: 7.204e-23\n",
      "\n",
      " The null hypothesis can be rejected, and it can be concluded that the means of the two samples are significantly different.\n"
     ]
    }
   ],
   "source": [
    "import numpy as np\n",
    "from scipy import stats\n",
    "\n",
    "# Define the acceptance treshold. The null hipotesis will be rejected for p_values smaller than the treshold\n",
    "treshold = 0.05\n",
    "\n",
    "np.random.seed(398317)\n",
    "# Generate two sets of random data with different means: one 90 and the other 100\n",
    "data1 = np.random.normal(100, 10, 200)\n",
    "data2 = np.random.normal(90, 10, 200)\n",
    "\n",
    "# Perform the independent samples t-test to test the null hypothesis that the means of the two samples are equal\n",
    "t_statistic, p_value = stats.ttest_ind(data1, data2)\n",
    "\n",
    "# Print the t-statistic and p-value\n",
    "print(\"t-statistic: {0:.4}\".format(t_statistic))\n",
    "print(\"p-value: {0:.4}\".format(p_value))\n",
    "\n",
    "# Interpret the results\n",
    "if p_value < treshold:\n",
    "  print(\"\\n The null hypothesis can be rejected, and it can be concluded that the means of the two samples are significantly different.\")\n",
    "else:\n",
    "  print(\"\\n The null hypothesis cannot be rejected, and it cannot be concluded that the means of the two samples are significantly different.\")\n"
   ]
  },
  {
   "cell_type": "code",
   "execution_count": null,
   "id": "b7a8c2a3-05a4-45b6-a016-0bfd35031197",
   "metadata": {},
   "outputs": [],
   "source": []
  }
 ],
 "metadata": {
  "kernelspec": {
   "display_name": "Python 3 (ipykernel)",
   "language": "python",
   "name": "python3"
  },
  "language_info": {
   "codemirror_mode": {
    "name": "ipython",
    "version": 3
   },
   "file_extension": ".py",
   "mimetype": "text/x-python",
   "name": "python",
   "nbconvert_exporter": "python",
   "pygments_lexer": "ipython3",
   "version": "3.8.13"
  }
 },
 "nbformat": 4,
 "nbformat_minor": 5
}
