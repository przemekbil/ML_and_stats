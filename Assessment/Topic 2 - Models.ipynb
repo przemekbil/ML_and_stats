{
 "cells": [
  {
   "cell_type": "markdown",
   "id": "b7f33e1a-ab7a-4019-b3ca-e2ec84905f9e",
   "metadata": {},
   "source": [
    "# Notebook for Topic 2 - Models"
   ]
  },
  {
   "cell_type": "markdown",
   "id": "1ab0bd95-93bd-4dee-b5c0-2e567f2c82dc",
   "metadata": {},
   "source": [
    "<hr style=\"border-top: 1px solid #001a79;\" />\n",
    "\n",
    "## Exercise 1\n",
    "\n",
    "Use numpy and matplotlib to plot the absolute value function.\n",
    "\n",
    "Research and explain why the absolute value function is not typically used in fitting straight lines to data."
   ]
  },
  {
   "cell_type": "code",
   "execution_count": 2,
   "id": "4c23bd83-5f1c-407e-aa9e-ab85599c714d",
   "metadata": {},
   "outputs": [],
   "source": [
    "# Import all used libraries\n",
    "\n",
    "# Numpy for numerical arrays\n",
    "import numpy as np\n",
    "\n",
    "# matplotlib for plots\n",
    "import matplotlib.pyplot as plt"
   ]
  },
  {
   "cell_type": "code",
   "execution_count": 3,
   "id": "4013920e-3277-4b40-a5d3-56d6f7fca5cb",
   "metadata": {},
   "outputs": [
    {
     "data": {
      "image/png": "[encoded data removed]",
      "text/plain": [
       "<Figure size 864x432 with 1 Axes>"
      ]
     },
     "metadata": {
      "needs_background": "light"
     },
     "output_type": "display_data"
    }
   ],
   "source": [
    "# Create a plot to visualize Data Set 1 with 2nd degree polynomial fit \n",
    "fig, ax = plt.subplots(figsize=(12,6))\n",
    "\n",
    "# create x values for plot\n",
    "x = np.linspace(-10, 10, 100)\n",
    "\n",
    "\n",
    "# Set the X axis label\n",
    "plt.xlabel('X', fontsize=12)\n",
    "# Set the Y axis label\n",
    "plt.ylabel('|x|', fontsize=12)\n",
    "\n",
    "\n",
    "# Plot Data Set 1 points:\n",
    "ax.plot(x, np.abs(x), label=\"Raw Data\");\n",
    "\n",
    "\n",
    "# Add the legend\n",
    "plt.legend(loc='upper center');"
   ]
  },
  {
   "cell_type": "code",
   "execution_count": null,
   "id": "733ecf7a-4ac4-40b7-97d4-46789f6239de",
   "metadata": {},
   "outputs": [],
   "source": []
  },
  {
   "cell_type": "code",
   "execution_count": null,
   "id": "661f4352-70ef-441e-91e6-f6c257a762f1",
   "metadata": {},
   "outputs": [],
   "source": []
  },
  {
   "cell_type": "code",
   "execution_count": null,
   "id": "1a7e6947-f9d1-44cf-9dab-55daf8aeecac",
   "metadata": {},
   "outputs": [],
   "source": []
  },
  {
   "cell_type": "code",
   "execution_count": null,
   "id": "639dbbd7-f0fd-40a5-965a-4beda85a8a6c",
   "metadata": {},
   "outputs": [],
   "source": []
  },
  {
   "cell_type": "code",
   "execution_count": null,
   "id": "66ce9b5a-aaaf-4fee-8a4d-ce0a6a93db47",
   "metadata": {},
   "outputs": [],
   "source": []
  },
  {
   "cell_type": "code",
   "execution_count": null,
   "id": "fd6f1771-767c-4681-be19-ac6bc3dca5b2",
   "metadata": {},
   "outputs": [],
   "source": []
  },
  {
   "cell_type": "code",
   "execution_count": null,
   "id": "3f8c1ed6-289a-4f6c-b8da-6ca3e79e6939",
   "metadata": {},
   "outputs": [],
   "source": []
  },
  {
   "cell_type": "code",
   "execution_count": null,
   "id": "ab5aa13a-eff7-4dea-b05b-474ce77786bd",
   "metadata": {},
   "outputs": [],
   "source": []
  },
  {
   "cell_type": "markdown",
   "id": "333e552c-b9d9-430c-995a-0aca1f7f8d3d",
   "metadata": {},
   "source": [
    "<hr style=\"border-top: 1px solid #001a79;\" />\n",
    "\n",
    "## Exercise 2\n",
    "\n",
    "Fit a straight line to the following data points, using all three methods used above.\n",
    "\n",
    "Do you think a straight line is a good model for these points?\n",
    "\n",
    "x = [2.0, 3.0, 4.0, 5.0, 6.0, 7.0, 8.0, 9.0, 10.0, 11.0, 12.0, 13.0, 14.0, 15.0, 16.0, 17.0, 18.0, 19.0, 20.0]<br>\n",
    "y = [0.7, 1.1, 1.5, 1.6, 1.7, 2.0, 2.3, 2.4, 2.2, 2.1, 2.4, 2.6, 2.2, 2.7, 2.5, 2.7, 2.8, 2.9, 3.1]"
   ]
  },
  {
   "cell_type": "code",
   "execution_count": null,
   "id": "00f201cb-6823-4be4-a775-02148e751f16",
   "metadata": {},
   "outputs": [],
   "source": []
  },
  {
   "cell_type": "code",
   "execution_count": null,
   "id": "9c0368ee-58c2-4c21-8bf5-4ce71ceef86e",
   "metadata": {},
   "outputs": [],
   "source": []
  },
  {
   "cell_type": "code",
   "execution_count": null,
   "id": "d32e1950-02c3-4c36-bcb3-42d38390dcae",
   "metadata": {},
   "outputs": [],
   "source": []
  },
  {
   "cell_type": "code",
   "execution_count": null,
   "id": "0cfe62b3-2e9d-442b-9f84-0b114b9f9d9d",
   "metadata": {},
   "outputs": [],
   "source": []
  },
  {
   "cell_type": "code",
   "execution_count": null,
   "id": "0834a299-a90c-4308-9947-29e1270e67cb",
   "metadata": {},
   "outputs": [],
   "source": []
  },
  {
   "cell_type": "code",
   "execution_count": null,
   "id": "29988819-7d23-493a-8bfa-85851cf66f86",
   "metadata": {},
   "outputs": [],
   "source": []
  },
  {
   "cell_type": "markdown",
   "id": "b350ada8-51b6-4551-b01f-73498b323acf",
   "metadata": {},
   "source": [
    "___\n",
    "# End"
   ]
  }
 ],
 "metadata": {
  "kernelspec": {
   "display_name": "Python 3 (ipykernel)",
   "language": "python",
   "name": "python3"
  },
  "language_info": {
   "codemirror_mode": {
    "name": "ipython",
    "version": 3
   },
   "file_extension": ".py",
   "mimetype": "text/x-python",
   "name": "python",
   "nbconvert_exporter": "python",
   "pygments_lexer": "ipython3",
   "version": "3.8.13"
  }
 },
 "nbformat": 4,
 "nbformat_minor": 5
}
