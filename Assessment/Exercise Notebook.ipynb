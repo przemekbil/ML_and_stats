{
 "cells": [
  {
   "cell_type": "markdown",
   "id": "66c0ce3f-2cf7-487d-b7ee-9e8b36a6ee22",
   "metadata": {},
   "source": [
    "<hr style=\"border-top: 1px solid #001a79;\" />\n",
    "\n",
    "# Exercise 1"
   ]
  },
  {
   "cell_type": "markdown",
   "id": "bacdc0bb-5ad9-4bf6-a91b-cd0fa5ce0801",
   "metadata": {},
   "source": [
    "### Calculate the minimum number of cups of tea required to ensure the probability of randomly selecting the correct cups is less than or equal to 1%."
   ]
  },
  {
   "cell_type": "code",
   "execution_count": null,
   "id": "75910472-176d-4498-910a-aa79470427f8",
   "metadata": {},
   "outputs": [],
   "source": [
    "import itertools\n",
    "import random\n",
    "import seaborn as sns"
   ]
  },
  {
   "cell_type": "code",
   "execution_count": null,
   "id": "847eefe4-25a3-4cd5-b212-16c861a4a10b",
   "metadata": {
    "tags": []
   },
   "outputs": [],
   "source": [
    "prob=1\n",
    "n=1\n",
    "min_prob = 0.01\n",
    "\n",
    "while prob>min_prob:\n",
    "\n",
    "    N=2*n\n",
    "    cups = list(range(N))\n",
    "    cups\n",
    "\n",
    "    poss = list(itertools.combinations(cups, n))\n",
    "    \n",
    "    prob = 1./len(poss)\n",
    "    \n",
    "    print(\"Number of possible ways to select {} cups from total of {} is {}\".format(n, len(cups), len(poss)))\n",
    "    print(\"Only 1 out of {} possibilities is the correct one, so the probability of corectly selecting it by chance is {:.3f}%\".format(len(poss), prob*100 ) )\n",
    "    print()\n",
    "    \n",
    "    n=n+1"
   ]
  },
  {
   "cell_type": "markdown",
   "id": "3f26a896-16b5-47a7-99bf-2e1e5eb9ef20",
   "metadata": {},
   "source": [
    "#### *Bonus:* How many would be required if you were to let the taster get one cup wrong while maintaining the 1% threshold?"
   ]
  },
  {
   "cell_type": "code",
   "execution_count": null,
   "id": "7f67c2bb-16fb-4b86-b85c-4e2e35a133bc",
   "metadata": {},
   "outputs": [],
   "source": [
    "cups = list(range(8))\n",
    "cups\n",
    "\n",
    "poss = list(itertools.combinations(cups, 4))"
   ]
  },
  {
   "cell_type": "code",
   "execution_count": null,
   "id": "540d3e30-e63a-4f0c-945a-470a26909b3a",
   "metadata": {},
   "outputs": [],
   "source": [
    "# Define randomly which cups will have milk added firts\n",
    "milkfirst = set(random.choice(poss))\n",
    "print(\"These cups had milk added before the tea: {}\".format(milkfirst))"
   ]
  },
  {
   "cell_type": "code",
   "execution_count": null,
   "id": "ec4a44ca-c437-4d9e-b935-babdd8525464",
   "metadata": {},
   "outputs": [],
   "source": [
    "correct_selections=[]\n",
    "for c in itertools.combinations(cups, 4):\n",
    "    correct_selections.append(len(milkfirst & set(c)))"
   ]
  },
  {
   "cell_type": "code",
   "execution_count": null,
   "id": "0f773318-c9fe-46b1-ac80-f8e78a6d144c",
   "metadata": {},
   "outputs": [],
   "source": [
    "sns.countplot(x=correct_selections);"
   ]
  },
  {
   "cell_type": "code",
   "execution_count": null,
   "id": "5e008175-cfda-4e51-b67a-bf1b801bed0a",
   "metadata": {},
   "outputs": [],
   "source": [
    "for c in range(5):\n",
    "    print(\"Number of possible ways to correctly select {} cups is {}\".format(c, correct_selections.count(c)))"
   ]
  },
  {
   "cell_type": "code",
   "execution_count": null,
   "id": "768231fe-a88f-415e-a457-270fee93f6d9",
   "metadata": {},
   "outputs": [],
   "source": []
  },
  {
   "cell_type": "markdown",
   "id": "9d687d7c-9004-4e73-830c-031ac050d4ce",
   "metadata": {},
   "source": [
    "<hr style=\"border-top: 1px solid #001a79;\" />\n",
    "\n",
    "# Exercise 2"
   ]
  },
  {
   "cell_type": "markdown",
   "id": "761f4c33-1a88-431d-be56-21b2a4e8d1b0",
   "metadata": {},
   "source": [
    "### Use scipy's version of Fisher's exact test to simulate the Lady Tasting Tea problem."
   ]
  },
  {
   "cell_type": "code",
   "execution_count": null,
   "id": "85f0097e-8006-494d-bb28-6f9a672134b1",
   "metadata": {},
   "outputs": [],
   "source": [
    "import scipy"
   ]
  },
  {
   "cell_type": "code",
   "execution_count": null,
   "id": "e2c4c2e9-2423-43dc-b6af-a7518640dec3",
   "metadata": {},
   "outputs": [],
   "source": []
  }
 ],
 "metadata": {
  "kernelspec": {
   "display_name": "Python 3 (ipykernel)",
   "language": "python",
   "name": "python3"
  },
  "language_info": {
   "codemirror_mode": {
    "name": "ipython",
    "version": 3
   },
   "file_extension": ".py",
   "mimetype": "text/x-python",
   "name": "python",
   "nbconvert_exporter": "python",
   "pygments_lexer": "ipython3",
   "version": "3.8.13"
  }
 },
 "nbformat": 4,
 "nbformat_minor": 5
}
