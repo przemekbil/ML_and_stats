{
 "cells": [
  {
   "cell_type": "markdown",
   "id": "66c0ce3f-2cf7-487d-b7ee-9e8b36a6ee22",
   "metadata": {},
   "source": [
    "<hr style=\"border-top: 1px solid #001a79;\" />\n",
    "\n",
    "# Exercise 1"
   ]
  },
  {
   "cell_type": "markdown",
   "id": "bacdc0bb-5ad9-4bf6-a91b-cd0fa5ce0801",
   "metadata": {},
   "source": [
    "### Calculate the minimum number of cups of tea required to ensure the probability of randomly selecting the correct cups is less than or equal to 1%."
   ]
  },
  {
   "cell_type": "code",
   "execution_count": 1,
   "id": "75910472-176d-4498-910a-aa79470427f8",
   "metadata": {},
   "outputs": [],
   "source": [
    "import itertools\n",
    "import random\n",
    "import seaborn as sns"
   ]
  },
  {
   "cell_type": "markdown",
   "id": "5a556850-0066-4bfe-ba06-a97bd7a5517d",
   "metadata": {},
   "source": [
    "#### Calculate probability of selecting all 4 cups correctly by chance calculated from fractional probabilities in each step"
   ]
  },
  {
   "cell_type": "markdown",
   "id": "a1cf9c3c-d758-41a8-ad77-d4b955bea6af",
   "metadata": {},
   "source": [
    "Probability of selecting all 4 cups out of 8 correctly:\n",
    "\n",
    "| Step | Number cups in the lot matching criteria | Total number of cups available | Probability |\n",
    "| --- | --- | --- |---|\n",
    "|Select 1st milk first cup | 4 | 8 | 4/8|\n",
    "|Select 2nd milk first cup  | 3 | 7 | 3/7|\n",
    "|Select 3rd milk first cup  | 2 | 6 | 2/6|\n",
    "|Select 4th milk first cup  | 1 | 5 | 1/4|\n",
    "\n",
    "These are independent events, so the final proability of selecting all 4 cups correctly can be calculated by multiplying probabilities frm each steps:\n",
    "\n",
    "$$P_{all} = \\frac{4}{8}*\\frac{3}{7}*\\frac{2}{6}*\\frac{1}{5}$$\n",
    "\n",
    "$$P_{all} = \\frac{4*3*2*1}{8*7*6*5}$$\n",
    "\n",
    "$$P_{all} = \\frac{24}{1680} = \\frac{1}{70}$$"
   ]
  },
  {
   "cell_type": "markdown",
   "id": "aed430f1-1f50-486d-a263-17239b3588e7",
   "metadata": {},
   "source": [
    "#### Calculate probability of selecting all 4 cups correctly by chance using combinatorics"
   ]
  },
  {
   "cell_type": "markdown",
   "id": "3ad1cd2b-57d1-49c4-9516-bb96ca4891fb",
   "metadata": {},
   "source": [
    "__[From Wikipedia](https://en.wikipedia.org/wiki/Combination)__\n",
    "\n",
    "How many ways can we select 4 cups out of 8?\n",
    "\n",
    "A Combination is a selection (a subset) of items from a set, such that the order of selection doesn't matter (in our example we don't care which cups is elected first and which last). The total number of the arrangements is given by the equation:\n",
    "\n",
    "$$C^n_k = \\frac{n!}{k!*(n-k)!}$$\n",
    "\n",
    "where<br>\n",
    "$n$ - size of the set,<br>\n",
    "$k$ - size of the subset\n"
   ]
  },
  {
   "cell_type": "code",
   "execution_count": 2,
   "id": "847eefe4-25a3-4cd5-b212-16c861a4a10b",
   "metadata": {
    "tags": []
   },
   "outputs": [
    {
     "name": "stdout",
     "output_type": "stream",
     "text": [
      "Number of possible ways to select 1 cups from total of 2 is 2\n",
      "Only 1 out of 2 possibilities is the correct one, so the probability of corectly selecting it by chance is 50.000%\n",
      "\n",
      "Number of possible ways to select 2 cups from total of 4 is 6\n",
      "Only 1 out of 6 possibilities is the correct one, so the probability of corectly selecting it by chance is 16.667%\n",
      "\n",
      "Number of possible ways to select 3 cups from total of 6 is 20\n",
      "Only 1 out of 20 possibilities is the correct one, so the probability of corectly selecting it by chance is 5.000%\n",
      "\n",
      "Number of possible ways to select 4 cups from total of 8 is 70\n",
      "Only 1 out of 70 possibilities is the correct one, so the probability of corectly selecting it by chance is 1.429%\n",
      "\n",
      "Number of possible ways to select 5 cups from total of 10 is 252\n",
      "Only 1 out of 252 possibilities is the correct one, so the probability of corectly selecting it by chance is 0.397%\n",
      "\n"
     ]
    }
   ],
   "source": [
    "prob=1\n",
    "n=1\n",
    "min_prob = 0.01\n",
    "\n",
    "while prob>min_prob:\n",
    "\n",
    "    N=2*n\n",
    "    cups = list(range(N))\n",
    "    cups\n",
    "\n",
    "    poss = list(itertools.combinations(cups, n))\n",
    "    \n",
    "    prob = 1./len(poss)\n",
    "    \n",
    "    print(\"Number of possible ways to select {} cups from total of {} is {}\".format(n, len(cups), len(poss)))\n",
    "    print(\"Only 1 out of {} possibilities is the correct one, so the probability of corectly selecting it by chance is {:.3f}%\".format(len(poss), prob*100 ) )\n",
    "    print()\n",
    "    \n",
    "    n=n+1"
   ]
  },
  {
   "cell_type": "markdown",
   "id": "3f26a896-16b5-47a7-99bf-2e1e5eb9ef20",
   "metadata": {},
   "source": [
    "#### *Bonus:* How many would be required if you were to let the taster get one cup wrong while maintaining the 1% threshold?"
   ]
  },
  {
   "cell_type": "code",
   "execution_count": 3,
   "id": "7f67c2bb-16fb-4b86-b85c-4e2e35a133bc",
   "metadata": {},
   "outputs": [],
   "source": [
    "cups = list(range(8))\n",
    "cups\n",
    "\n",
    "poss = list(itertools.combinations(cups, 4))"
   ]
  },
  {
   "cell_type": "code",
   "execution_count": 4,
   "id": "540d3e30-e63a-4f0c-945a-470a26909b3a",
   "metadata": {},
   "outputs": [
    {
     "name": "stdout",
     "output_type": "stream",
     "text": [
      "These cups had milk added before the tea: {0, 1, 2, 7}\n"
     ]
    }
   ],
   "source": [
    "# Define randomly which cups will have milk added firts\n",
    "milkfirst = set(random.choice(poss))\n",
    "print(\"These cups had milk added before the tea: {}\".format(milkfirst))"
   ]
  },
  {
   "cell_type": "code",
   "execution_count": 5,
   "id": "ec4a44ca-c437-4d9e-b935-babdd8525464",
   "metadata": {},
   "outputs": [],
   "source": [
    "correct_selections=[]\n",
    "for c in itertools.combinations(cups, 4):\n",
    "    correct_selections.append(len(milkfirst & set(c)))"
   ]
  },
  {
   "cell_type": "code",
   "execution_count": 6,
   "id": "0f773318-c9fe-46b1-ac80-f8e78a6d144c",
   "metadata": {},
   "outputs": [
    {
     "data": {
      "image/png": "[encoded data removed]",
      "text/plain": [
       "<Figure size 432x288 with 1 Axes>"
      ]
     },
     "metadata": {
      "needs_background": "light"
     },
     "output_type": "display_data"
    }
   ],
   "source": [
    "sns.countplot(x=correct_selections);"
   ]
  },
  {
   "cell_type": "code",
   "execution_count": 10,
   "id": "5e008175-cfda-4e51-b67a-bf1b801bed0a",
   "metadata": {},
   "outputs": [
    {
     "name": "stdout",
     "output_type": "stream",
     "text": [
      "Number of possible ways to correctly select 0 cups is 1\n",
      "Number of possible ways to correctly select 1 cups is 16\n",
      "Number of possible ways to correctly select 2 cups is 36\n",
      "Number of possible ways to correctly select 3 cups is 16\n",
      "Number of possible ways to correctly select 4 cups is 1\n"
     ]
    }
   ],
   "source": [
    "for correct in range(5):\n",
    "    print(\"Number of possible ways to correctly select {} cups is {}\".format(correct, correct_selections.count(correct)))"
   ]
  },
  {
   "cell_type": "code",
   "execution_count": 12,
   "id": "768231fe-a88f-415e-a457-270fee93f6d9",
   "metadata": {},
   "outputs": [
    {
     "data": {
      "text/plain": [
       "0.24285714285714285"
      ]
     },
     "execution_count": 12,
     "metadata": {},
     "output_type": "execute_result"
    }
   ],
   "source": [
    "# Probability of selecting at most 1 cups wrong in this scenario is:\n",
    "\n",
    "prob1 = (correct_selections.count(4) + correct_selections.count(3))/len(correct_selections)\n",
    "\n",
    "prob1"
   ]
  },
  {
   "cell_type": "code",
   "execution_count": 19,
   "id": "c82d7a15-eaad-4e67-929a-38c1926baa1a",
   "metadata": {},
   "outputs": [
    {
     "data": {
      "text/plain": [
       "0.24285714285714285"
      ]
     },
     "execution_count": 19,
     "metadata": {},
     "output_type": "execute_result"
    }
   ],
   "source": [
    "prob1a = (4*3*2*4)/(8*7*6*5) * 4 + (4*3*2*1)/(8*7*6*5)\n",
    "prob1a"
   ]
  },
  {
   "cell_type": "markdown",
   "id": "fc976639-2d5c-4e67-90d8-0411f6f22271",
   "metadata": {},
   "source": [
    "#### Probability of selecting all 3 cups correctly by chance calculated from fractional probabilities in each step"
   ]
  },
  {
   "cell_type": "markdown",
   "id": "3bbbaee9-1812-4114-ae95-5baff47faf39",
   "metadata": {},
   "source": [
    "##### Probability of selecting first cup uncorectly and then all 3 following cups correctly:\n",
    "\n",
    "| Step | Number cups in the lot matching criteria | Total number of cups available | Probability |\n",
    "| --- | --- | --- |---|\n",
    "|Select 1st tea first cup | 4 | 8 | 4/8|\n",
    "|Select 1st milk first cup  | 4 | 7 | 4/7|\n",
    "|Select 2nd milk first cup  | 3 | 6 | 3/6|\n",
    "|Select 3rd milk first cup  | 2 | 5 | 2/4|\n",
    "\n",
    "These are independent events, so the final proability of selecting all 4 cups correctly can be calculated by multiplying probabilities form each steps:\n",
    "\n",
    "$$P_{all} = \\frac{4}{8}*\\frac{4}{7}*\\frac{3}{6}*\\frac{2}{5}$$\n",
    "\n",
    "$$P_{all} = \\frac{4*4*3*2}{8*7*6*5}$$\n",
    "\n",
    "$$P_{all} = \\frac{96}{1680} = \\frac{4}{70}$$\n",
    "\n",
    "\n",
    "\n",
    "##### Probability of selecting one incorrect cup at any step:\n",
    "\n",
    "Probability of selecting one incorrect cup at any step would be a sum of probabilities of selecting incorrect cup only at first step (calculated above), only at second step, only at third step and only at fourts step. Because these events are qually likely to occur, the final probability of selecting one cup incorrectly would be:\n",
    "\n",
    "$$P_{3-correct} = \\frac{96}{1680} * 4 = \\frac{16}{70}$$"
   ]
  },
  {
   "cell_type": "markdown",
   "id": "9d687d7c-9004-4e73-830c-031ac050d4ce",
   "metadata": {},
   "source": [
    "<hr style=\"border-top: 1px solid #001a79;\" />\n",
    "\n",
    "# Exercise 2"
   ]
  },
  {
   "cell_type": "markdown",
   "id": "761f4c33-1a88-431d-be56-21b2a4e8d1b0",
   "metadata": {},
   "source": [
    "### Use scipy's version of Fisher's exact test to simulate the Lady Tasting Tea problem."
   ]
  },
  {
   "cell_type": "code",
   "execution_count": 8,
   "id": "85f0097e-8006-494d-bb28-6f9a672134b1",
   "metadata": {},
   "outputs": [],
   "source": [
    "import scipy"
   ]
  },
  {
   "cell_type": "code",
   "execution_count": null,
   "id": "e2c4c2e9-2423-43dc-b6af-a7518640dec3",
   "metadata": {},
   "outputs": [],
   "source": []
  }
 ],
 "metadata": {
  "kernelspec": {
   "display_name": "Python 3 (ipykernel)",
   "language": "python",
   "name": "python3"
  },
  "language_info": {
   "codemirror_mode": {
    "name": "ipython",
    "version": 3
   },
   "file_extension": ".py",
   "mimetype": "text/x-python",
   "name": "python",
   "nbconvert_exporter": "python",
   "pygments_lexer": "ipython3",
   "version": "3.8.13"
  }
 },
 "nbformat": 4,
 "nbformat_minor": 5
}
