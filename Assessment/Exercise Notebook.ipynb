{
 "cells": [
  {
   "cell_type": "markdown",
   "id": "66c0ce3f-2cf7-487d-b7ee-9e8b36a6ee22",
   "metadata": {},
   "source": [
    "<hr style=\"border-top: 1px solid #001a79;\" />\n",
    "\n",
    "# Exercise 1"
   ]
  },
  {
   "cell_type": "markdown",
   "id": "bacdc0bb-5ad9-4bf6-a91b-cd0fa5ce0801",
   "metadata": {},
   "source": [
    "### Calculate the minimum number of cups of tea required to ensure the probability of randomly selecting the correct cups is less than or equal to 1%."
   ]
  },
  {
   "cell_type": "code",
   "execution_count": 3,
   "id": "75910472-176d-4498-910a-aa79470427f8",
   "metadata": {},
   "outputs": [],
   "source": [
    "import itertools"
   ]
  },
  {
   "cell_type": "code",
   "execution_count": 43,
   "id": "847eefe4-25a3-4cd5-b212-16c861a4a10b",
   "metadata": {
    "tags": []
   },
   "outputs": [
    {
     "name": "stdout",
     "output_type": "stream",
     "text": [
      "Number of possible ways to select 1 cups from total of 2 is 2\n",
      "Only 1 out of 2 possibilities is the correct one, so the probability of corectly selecting it by chance is 50.000%\n",
      "\n",
      "Number of possible ways to select 2 cups from total of 4 is 6\n",
      "Only 1 out of 6 possibilities is the correct one, so the probability of corectly selecting it by chance is 16.667%\n",
      "\n",
      "Number of possible ways to select 3 cups from total of 6 is 20\n",
      "Only 1 out of 20 possibilities is the correct one, so the probability of corectly selecting it by chance is 5.000%\n",
      "\n",
      "Number of possible ways to select 4 cups from total of 8 is 70\n",
      "Only 1 out of 70 possibilities is the correct one, so the probability of corectly selecting it by chance is 1.429%\n",
      "\n",
      "Number of possible ways to select 5 cups from total of 10 is 252\n",
      "Only 1 out of 252 possibilities is the correct one, so the probability of corectly selecting it by chance is 0.397%\n",
      "\n"
     ]
    }
   ],
   "source": [
    "prob=1\n",
    "n=1\n",
    "min_prob = 0.01\n",
    "\n",
    "while prob>min_prob:\n",
    "\n",
    "    N=2*n\n",
    "    cups = list(range(N))\n",
    "    cups\n",
    "\n",
    "    poss = list(itertools.combinations(cups, n))\n",
    "    \n",
    "    prob = 1./len(poss)\n",
    "    \n",
    "    print(\"Number of possible ways to select {} cups from total of {} is {}\".format(n, len(cups), len(poss)))\n",
    "    print(\"Only 1 out of {} possibilities is the correct one, so the probability of corectly selecting it by chance is {:.3f}%\".format(len(poss), prob*100 ) )\n",
    "    print()\n",
    "    \n",
    "    n=n+1"
   ]
  },
  {
   "cell_type": "code",
   "execution_count": null,
   "id": "804e6c83-fcba-4b02-9856-9e5717739fb8",
   "metadata": {},
   "outputs": [],
   "source": []
  },
  {
   "cell_type": "code",
   "execution_count": null,
   "id": "31f2e378-f8a8-4772-aa96-feed85ec5549",
   "metadata": {},
   "outputs": [],
   "source": []
  },
  {
   "cell_type": "markdown",
   "id": "9d687d7c-9004-4e73-830c-031ac050d4ce",
   "metadata": {},
   "source": [
    "<hr style=\"border-top: 1px solid #001a79;\" />\n",
    "\n",
    "# Exercise 2"
   ]
  },
  {
   "cell_type": "markdown",
   "id": "761f4c33-1a88-431d-be56-21b2a4e8d1b0",
   "metadata": {},
   "source": [
    "### Use scipy's version of Fisher's exact test to simulate the Lady Tasting Tea problem."
   ]
  },
  {
   "cell_type": "code",
   "execution_count": 1,
   "id": "85f0097e-8006-494d-bb28-6f9a672134b1",
   "metadata": {},
   "outputs": [],
   "source": [
    "import scipy"
   ]
  },
  {
   "cell_type": "code",
   "execution_count": null,
   "id": "e2c4c2e9-2423-43dc-b6af-a7518640dec3",
   "metadata": {},
   "outputs": [],
   "source": []
  }
 ],
 "metadata": {
  "kernelspec": {
   "display_name": "Python 3 (ipykernel)",
   "language": "python",
   "name": "python3"
  },
  "language_info": {
   "codemirror_mode": {
    "name": "ipython",
    "version": 3
   },
   "file_extension": ".py",
   "mimetype": "text/x-python",
   "name": "python",
   "nbconvert_exporter": "python",
   "pygments_lexer": "ipython3",
   "version": "3.8.13"
  }
 },
 "nbformat": 4,
 "nbformat_minor": 5
}
